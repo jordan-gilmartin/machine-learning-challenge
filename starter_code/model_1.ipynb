{
 "cells": [
  {
   "cell_type": "code",
   "execution_count": 1,
   "metadata": {},
   "outputs": [
    {
     "name": "stdout",
     "output_type": "stream",
     "text": [
      "Requirement already satisfied: sklearn in c:\\users\\jcg\\anaconda3\\envs\\pythonadv\\lib\\site-packages (0.0)\n",
      "Requirement already satisfied: scikit-learn in c:\\users\\jcg\\anaconda3\\envs\\pythonadv\\lib\\site-packages (from sklearn) (0.24.1)\n",
      "Requirement already satisfied: numpy>=1.13.3 in c:\\users\\jcg\\anaconda3\\envs\\pythonadv\\lib\\site-packages (from scikit-learn->sklearn) (1.19.2)\n",
      "Requirement already satisfied: joblib>=0.11 in c:\\users\\jcg\\anaconda3\\envs\\pythonadv\\lib\\site-packages (from scikit-learn->sklearn) (1.0.1)\n",
      "Requirement already satisfied: scipy>=0.19.1 in c:\\users\\jcg\\anaconda3\\envs\\pythonadv\\lib\\site-packages (from scikit-learn->sklearn) (1.5.2)\n",
      "Requirement already satisfied: threadpoolctl>=2.0.0 in c:\\users\\jcg\\anaconda3\\envs\\pythonadv\\lib\\site-packages (from scikit-learn->sklearn) (2.1.0)\n"
     ]
    }
   ],
   "source": [
    "# Update sklearn to prevent version mismatches\n",
    "!pip install sklearn --upgrade"
   ]
  },
  {
   "cell_type": "code",
   "execution_count": 2,
   "metadata": {},
   "outputs": [
    {
     "name": "stdout",
     "output_type": "stream",
     "text": [
      "Requirement already satisfied: joblib in c:\\users\\jcg\\anaconda3\\envs\\pythonadv\\lib\\site-packages (1.0.1)\n"
     ]
    }
   ],
   "source": [
    "# install joblib. This will be used to save your model. \n",
    "# Restart your kernel after installing \n",
    "!pip install joblib"
   ]
  },
  {
   "cell_type": "code",
   "execution_count": 3,
   "metadata": {},
   "outputs": [],
   "source": [
    "import pandas as pd"
   ]
  },
  {
   "cell_type": "markdown",
   "metadata": {},
   "source": [
    "# Read the CSV and Perform Basic Data Cleaning"
   ]
  },
  {
   "cell_type": "code",
   "execution_count": 4,
   "metadata": {},
   "outputs": [
    {
     "data": {
      "text/html": [
       "<div>\n",
       "<style scoped>\n",
       "    .dataframe tbody tr th:only-of-type {\n",
       "        vertical-align: middle;\n",
       "    }\n",
       "\n",
       "    .dataframe tbody tr th {\n",
       "        vertical-align: top;\n",
       "    }\n",
       "\n",
       "    .dataframe thead th {\n",
       "        text-align: right;\n",
       "    }\n",
       "</style>\n",
       "<table border=\"1\" class=\"dataframe\">\n",
       "  <thead>\n",
       "    <tr style=\"text-align: right;\">\n",
       "      <th></th>\n",
       "      <th>koi_disposition</th>\n",
       "      <th>koi_fpflag_nt</th>\n",
       "      <th>koi_fpflag_ss</th>\n",
       "      <th>koi_fpflag_co</th>\n",
       "      <th>koi_fpflag_ec</th>\n",
       "      <th>koi_period</th>\n",
       "      <th>koi_period_err1</th>\n",
       "      <th>koi_period_err2</th>\n",
       "      <th>koi_time0bk</th>\n",
       "      <th>koi_time0bk_err1</th>\n",
       "      <th>...</th>\n",
       "      <th>koi_steff_err2</th>\n",
       "      <th>koi_slogg</th>\n",
       "      <th>koi_slogg_err1</th>\n",
       "      <th>koi_slogg_err2</th>\n",
       "      <th>koi_srad</th>\n",
       "      <th>koi_srad_err1</th>\n",
       "      <th>koi_srad_err2</th>\n",
       "      <th>ra</th>\n",
       "      <th>dec</th>\n",
       "      <th>koi_kepmag</th>\n",
       "    </tr>\n",
       "  </thead>\n",
       "  <tbody>\n",
       "    <tr>\n",
       "      <th>0</th>\n",
       "      <td>CONFIRMED</td>\n",
       "      <td>0</td>\n",
       "      <td>0</td>\n",
       "      <td>0</td>\n",
       "      <td>0</td>\n",
       "      <td>54.418383</td>\n",
       "      <td>2.479000e-04</td>\n",
       "      <td>-2.479000e-04</td>\n",
       "      <td>162.513840</td>\n",
       "      <td>0.003520</td>\n",
       "      <td>...</td>\n",
       "      <td>-81</td>\n",
       "      <td>4.467</td>\n",
       "      <td>0.064</td>\n",
       "      <td>-0.096</td>\n",
       "      <td>0.927</td>\n",
       "      <td>0.105</td>\n",
       "      <td>-0.061</td>\n",
       "      <td>291.93423</td>\n",
       "      <td>48.141651</td>\n",
       "      <td>15.347</td>\n",
       "    </tr>\n",
       "    <tr>\n",
       "      <th>1</th>\n",
       "      <td>FALSE POSITIVE</td>\n",
       "      <td>0</td>\n",
       "      <td>1</td>\n",
       "      <td>0</td>\n",
       "      <td>0</td>\n",
       "      <td>19.899140</td>\n",
       "      <td>1.490000e-05</td>\n",
       "      <td>-1.490000e-05</td>\n",
       "      <td>175.850252</td>\n",
       "      <td>0.000581</td>\n",
       "      <td>...</td>\n",
       "      <td>-176</td>\n",
       "      <td>4.544</td>\n",
       "      <td>0.044</td>\n",
       "      <td>-0.176</td>\n",
       "      <td>0.868</td>\n",
       "      <td>0.233</td>\n",
       "      <td>-0.078</td>\n",
       "      <td>297.00482</td>\n",
       "      <td>48.134129</td>\n",
       "      <td>15.436</td>\n",
       "    </tr>\n",
       "    <tr>\n",
       "      <th>2</th>\n",
       "      <td>FALSE POSITIVE</td>\n",
       "      <td>0</td>\n",
       "      <td>1</td>\n",
       "      <td>0</td>\n",
       "      <td>0</td>\n",
       "      <td>1.736952</td>\n",
       "      <td>2.630000e-07</td>\n",
       "      <td>-2.630000e-07</td>\n",
       "      <td>170.307565</td>\n",
       "      <td>0.000115</td>\n",
       "      <td>...</td>\n",
       "      <td>-174</td>\n",
       "      <td>4.564</td>\n",
       "      <td>0.053</td>\n",
       "      <td>-0.168</td>\n",
       "      <td>0.791</td>\n",
       "      <td>0.201</td>\n",
       "      <td>-0.067</td>\n",
       "      <td>285.53461</td>\n",
       "      <td>48.285210</td>\n",
       "      <td>15.597</td>\n",
       "    </tr>\n",
       "    <tr>\n",
       "      <th>3</th>\n",
       "      <td>CONFIRMED</td>\n",
       "      <td>0</td>\n",
       "      <td>0</td>\n",
       "      <td>0</td>\n",
       "      <td>0</td>\n",
       "      <td>2.525592</td>\n",
       "      <td>3.760000e-06</td>\n",
       "      <td>-3.760000e-06</td>\n",
       "      <td>171.595550</td>\n",
       "      <td>0.001130</td>\n",
       "      <td>...</td>\n",
       "      <td>-211</td>\n",
       "      <td>4.438</td>\n",
       "      <td>0.070</td>\n",
       "      <td>-0.210</td>\n",
       "      <td>1.046</td>\n",
       "      <td>0.334</td>\n",
       "      <td>-0.133</td>\n",
       "      <td>288.75488</td>\n",
       "      <td>48.226200</td>\n",
       "      <td>15.509</td>\n",
       "    </tr>\n",
       "    <tr>\n",
       "      <th>4</th>\n",
       "      <td>CONFIRMED</td>\n",
       "      <td>0</td>\n",
       "      <td>0</td>\n",
       "      <td>0</td>\n",
       "      <td>0</td>\n",
       "      <td>4.134435</td>\n",
       "      <td>1.050000e-05</td>\n",
       "      <td>-1.050000e-05</td>\n",
       "      <td>172.979370</td>\n",
       "      <td>0.001900</td>\n",
       "      <td>...</td>\n",
       "      <td>-232</td>\n",
       "      <td>4.486</td>\n",
       "      <td>0.054</td>\n",
       "      <td>-0.229</td>\n",
       "      <td>0.972</td>\n",
       "      <td>0.315</td>\n",
       "      <td>-0.105</td>\n",
       "      <td>296.28613</td>\n",
       "      <td>48.224670</td>\n",
       "      <td>15.714</td>\n",
       "    </tr>\n",
       "  </tbody>\n",
       "</table>\n",
       "<p>5 rows × 41 columns</p>\n",
       "</div>"
      ],
      "text/plain": [
       "  koi_disposition  koi_fpflag_nt  koi_fpflag_ss  koi_fpflag_co  koi_fpflag_ec  \\\n",
       "0       CONFIRMED              0              0              0              0   \n",
       "1  FALSE POSITIVE              0              1              0              0   \n",
       "2  FALSE POSITIVE              0              1              0              0   \n",
       "3       CONFIRMED              0              0              0              0   \n",
       "4       CONFIRMED              0              0              0              0   \n",
       "\n",
       "   koi_period  koi_period_err1  koi_period_err2  koi_time0bk  \\\n",
       "0   54.418383     2.479000e-04    -2.479000e-04   162.513840   \n",
       "1   19.899140     1.490000e-05    -1.490000e-05   175.850252   \n",
       "2    1.736952     2.630000e-07    -2.630000e-07   170.307565   \n",
       "3    2.525592     3.760000e-06    -3.760000e-06   171.595550   \n",
       "4    4.134435     1.050000e-05    -1.050000e-05   172.979370   \n",
       "\n",
       "   koi_time0bk_err1  ...  koi_steff_err2  koi_slogg  koi_slogg_err1  \\\n",
       "0          0.003520  ...             -81      4.467           0.064   \n",
       "1          0.000581  ...            -176      4.544           0.044   \n",
       "2          0.000115  ...            -174      4.564           0.053   \n",
       "3          0.001130  ...            -211      4.438           0.070   \n",
       "4          0.001900  ...            -232      4.486           0.054   \n",
       "\n",
       "   koi_slogg_err2  koi_srad  koi_srad_err1  koi_srad_err2         ra  \\\n",
       "0          -0.096     0.927          0.105         -0.061  291.93423   \n",
       "1          -0.176     0.868          0.233         -0.078  297.00482   \n",
       "2          -0.168     0.791          0.201         -0.067  285.53461   \n",
       "3          -0.210     1.046          0.334         -0.133  288.75488   \n",
       "4          -0.229     0.972          0.315         -0.105  296.28613   \n",
       "\n",
       "         dec  koi_kepmag  \n",
       "0  48.141651      15.347  \n",
       "1  48.134129      15.436  \n",
       "2  48.285210      15.597  \n",
       "3  48.226200      15.509  \n",
       "4  48.224670      15.714  \n",
       "\n",
       "[5 rows x 41 columns]"
      ]
     },
     "execution_count": 4,
     "metadata": {},
     "output_type": "execute_result"
    }
   ],
   "source": [
    "df = pd.read_csv(\"exoplanet_data.csv\")\n",
    "# Drop the null columns where all values are null\n",
    "df = df.dropna(axis='columns', how='all')\n",
    "# Drop the null rows\n",
    "df = df.dropna()\n",
    "df.head()"
   ]
  },
  {
   "cell_type": "code",
   "execution_count": 5,
   "metadata": {},
   "outputs": [
    {
     "data": {
      "text/plain": [
       "(6991, 41)"
      ]
     },
     "execution_count": 5,
     "metadata": {},
     "output_type": "execute_result"
    }
   ],
   "source": [
    "df.shape"
   ]
  },
  {
   "cell_type": "code",
   "execution_count": null,
   "metadata": {},
   "outputs": [],
   "source": []
  },
  {
   "cell_type": "markdown",
   "metadata": {},
   "source": [
    "# Select your features (columns)"
   ]
  },
  {
   "cell_type": "code",
   "execution_count": 6,
   "metadata": {},
   "outputs": [
    {
     "name": "stdout",
     "output_type": "stream",
     "text": [
      "(6991, 40) (6991,)\n"
     ]
    }
   ],
   "source": [
    "# Set features. This will also be used as your x values.\n",
    "# selected_features = df[['names', 'of', 'selected', 'features', 'here']]\n",
    "X = df.drop(\"koi_disposition\", axis=1)\n",
    "y = df[\"koi_disposition\"]\n",
    "print(X.shape, y.shape)"
   ]
  },
  {
   "cell_type": "markdown",
   "metadata": {},
   "source": [
    "# Create a Train Test Split\n",
    "\n",
    "Use `koi_disposition` for the y values"
   ]
  },
  {
   "cell_type": "code",
   "execution_count": 7,
   "metadata": {},
   "outputs": [],
   "source": [
    "from sklearn.model_selection import train_test_split\n",
    "from sklearn.preprocessing import LabelEncoder, MinMaxScaler\n",
    "from tensorflow.keras.utils import to_categorical"
   ]
  },
  {
   "cell_type": "code",
   "execution_count": 8,
   "metadata": {},
   "outputs": [],
   "source": [
    "X_train, X_test, y_train, y_test = train_test_split(X, y, random_state=1)"
   ]
  },
  {
   "cell_type": "code",
   "execution_count": 9,
   "metadata": {},
   "outputs": [
    {
     "data": {
      "text/plain": [
       "(5243, 40)"
      ]
     },
     "execution_count": 9,
     "metadata": {},
     "output_type": "execute_result"
    }
   ],
   "source": [
    "X_train.shape"
   ]
  },
  {
   "cell_type": "markdown",
   "metadata": {},
   "source": [
    "# Pre-processing\n",
    "\n",
    "Scale the data using the MinMaxScaler and perform some feature selection"
   ]
  },
  {
   "cell_type": "code",
   "execution_count": 10,
   "metadata": {},
   "outputs": [],
   "source": [
    "# Scale your data\n",
    "X_scaler = MinMaxScaler().fit(X_train)\n",
    "X_train_scaled = X_scaler.transform(X_train)\n",
    "X_test_scaled = X_scaler.transform(X_test)\n",
    "\n",
    "# Step 1: Label-encode data set\n",
    "label_encoder = LabelEncoder()\n",
    "label_encoder.fit(y_train)\n",
    "encoded_y_train = label_encoder.transform(y_train)\n",
    "encoded_y_test = label_encoder.transform(y_test)\n",
    "\n",
    "# Step 2: Convert encoded labels to one-hot-encoding\n",
    "y_train_categorical = to_categorical(encoded_y_train)\n",
    "y_test_categorical = to_categorical(encoded_y_test)"
   ]
  },
  {
   "cell_type": "markdown",
   "metadata": {},
   "source": [
    "# Train the Model\n",
    "\n"
   ]
  },
  {
   "cell_type": "code",
   "execution_count": 11,
   "metadata": {},
   "outputs": [
    {
     "name": "stdout",
     "output_type": "stream",
     "text": [
      "Model: \"sequential\"\n",
      "_________________________________________________________________\n",
      "Layer (type)                 Output Shape              Param #   \n",
      "=================================================================\n",
      "dense (Dense)                (None, 100)               4100      \n",
      "_________________________________________________________________\n",
      "dense_1 (Dense)              (None, 100)               10100     \n",
      "_________________________________________________________________\n",
      "dense_2 (Dense)              (None, 3)                 303       \n",
      "=================================================================\n",
      "Total params: 14,503\n",
      "Trainable params: 14,503\n",
      "Non-trainable params: 0\n",
      "_________________________________________________________________\n"
     ]
    }
   ],
   "source": [
    "from tensorflow.keras.models import Sequential\n",
    "from tensorflow.keras.layers import Dense\n",
    "\n",
    "# Create model and add layers\n",
    "model = Sequential()\n",
    "model.add(Dense(units=100, activation='relu', input_dim=40))\n",
    "model.add(Dense(units=100, activation='relu'))\n",
    "model.add(Dense(units=3, activation='softmax'))\n",
    "\n",
    "# Compile and fit the model\n",
    "model.compile(optimizer='adam',\n",
    "              loss='categorical_crossentropy',\n",
    "              metrics=['accuracy'])\n",
    "\n",
    "model.summary()"
   ]
  },
  {
   "cell_type": "code",
   "execution_count": 12,
   "metadata": {},
   "outputs": [
    {
     "name": "stdout",
     "output_type": "stream",
     "text": [
      "Epoch 1/100\n",
      "164/164 - 1s - loss: 0.5622 - accuracy: 0.7244\n",
      "Epoch 2/100\n",
      "164/164 - 0s - loss: 0.3744 - accuracy: 0.8110\n",
      "Epoch 3/100\n",
      "164/164 - 0s - loss: 0.3592 - accuracy: 0.8220\n",
      "Epoch 4/100\n",
      "164/164 - 0s - loss: 0.3513 - accuracy: 0.8283\n",
      "Epoch 5/100\n",
      "164/164 - 0s - loss: 0.3480 - accuracy: 0.8230\n",
      "Epoch 6/100\n",
      "164/164 - 0s - loss: 0.3404 - accuracy: 0.8404\n",
      "Epoch 7/100\n",
      "164/164 - 0s - loss: 0.3302 - accuracy: 0.8459\n",
      "Epoch 8/100\n",
      "164/164 - 0s - loss: 0.3317 - accuracy: 0.8438\n",
      "Epoch 9/100\n",
      "164/164 - 0s - loss: 0.3224 - accuracy: 0.8493\n",
      "Epoch 10/100\n",
      "164/164 - 0s - loss: 0.3166 - accuracy: 0.8528\n",
      "Epoch 11/100\n",
      "164/164 - 0s - loss: 0.3185 - accuracy: 0.8543\n",
      "Epoch 12/100\n",
      "164/164 - 0s - loss: 0.3086 - accuracy: 0.8602\n",
      "Epoch 13/100\n",
      "164/164 - 0s - loss: 0.3092 - accuracy: 0.8632\n",
      "Epoch 14/100\n",
      "164/164 - 0s - loss: 0.3046 - accuracy: 0.8665\n",
      "Epoch 15/100\n",
      "164/164 - 0s - loss: 0.3083 - accuracy: 0.8648\n",
      "Epoch 16/100\n",
      "164/164 - 0s - loss: 0.3032 - accuracy: 0.8604\n",
      "Epoch 17/100\n",
      "164/164 - 0s - loss: 0.2971 - accuracy: 0.8699\n",
      "Epoch 18/100\n",
      "164/164 - 0s - loss: 0.2979 - accuracy: 0.8671\n",
      "Epoch 19/100\n",
      "164/164 - 0s - loss: 0.2972 - accuracy: 0.8673\n",
      "Epoch 20/100\n",
      "164/164 - 0s - loss: 0.3016 - accuracy: 0.8638\n",
      "Epoch 21/100\n",
      "164/164 - 0s - loss: 0.2884 - accuracy: 0.8726\n",
      "Epoch 22/100\n",
      "164/164 - 0s - loss: 0.2895 - accuracy: 0.8705\n",
      "Epoch 23/100\n",
      "164/164 - 0s - loss: 0.2874 - accuracy: 0.8758\n",
      "Epoch 24/100\n",
      "164/164 - 0s - loss: 0.2877 - accuracy: 0.8751\n",
      "Epoch 25/100\n",
      "164/164 - 0s - loss: 0.2833 - accuracy: 0.8758\n",
      "Epoch 26/100\n",
      "164/164 - 0s - loss: 0.2806 - accuracy: 0.8791\n",
      "Epoch 27/100\n",
      "164/164 - 0s - loss: 0.2934 - accuracy: 0.8646\n",
      "Epoch 28/100\n",
      "164/164 - 0s - loss: 0.2788 - accuracy: 0.8777\n",
      "Epoch 29/100\n",
      "164/164 - 0s - loss: 0.2857 - accuracy: 0.8743\n",
      "Epoch 30/100\n",
      "164/164 - 0s - loss: 0.2761 - accuracy: 0.8808\n",
      "Epoch 31/100\n",
      "164/164 - 0s - loss: 0.2786 - accuracy: 0.8783\n",
      "Epoch 32/100\n",
      "164/164 - 0s - loss: 0.2770 - accuracy: 0.8814\n",
      "Epoch 33/100\n",
      "164/164 - 0s - loss: 0.2728 - accuracy: 0.8825\n",
      "Epoch 34/100\n",
      "164/164 - 0s - loss: 0.2718 - accuracy: 0.8802\n",
      "Epoch 35/100\n",
      "164/164 - 0s - loss: 0.2753 - accuracy: 0.8795\n",
      "Epoch 36/100\n",
      "164/164 - 0s - loss: 0.2676 - accuracy: 0.8833\n",
      "Epoch 37/100\n",
      "164/164 - 0s - loss: 0.2686 - accuracy: 0.8814\n",
      "Epoch 38/100\n",
      "164/164 - 0s - loss: 0.2681 - accuracy: 0.8850\n",
      "Epoch 39/100\n",
      "164/164 - 0s - loss: 0.2736 - accuracy: 0.8823\n",
      "Epoch 40/100\n",
      "164/164 - 0s - loss: 0.2717 - accuracy: 0.8800\n",
      "Epoch 41/100\n",
      "164/164 - 0s - loss: 0.2655 - accuracy: 0.8808\n",
      "Epoch 42/100\n",
      "164/164 - 0s - loss: 0.2640 - accuracy: 0.8892\n",
      "Epoch 43/100\n",
      "164/164 - 0s - loss: 0.2688 - accuracy: 0.8816\n",
      "Epoch 44/100\n",
      "164/164 - 0s - loss: 0.2630 - accuracy: 0.8823\n",
      "Epoch 45/100\n",
      "164/164 - 0s - loss: 0.2607 - accuracy: 0.8871\n",
      "Epoch 46/100\n",
      "164/164 - 0s - loss: 0.2651 - accuracy: 0.8825\n",
      "Epoch 47/100\n",
      "164/164 - 0s - loss: 0.2581 - accuracy: 0.8880\n",
      "Epoch 48/100\n",
      "164/164 - 0s - loss: 0.2583 - accuracy: 0.8848\n",
      "Epoch 49/100\n",
      "164/164 - 0s - loss: 0.2568 - accuracy: 0.8898\n",
      "Epoch 50/100\n",
      "164/164 - 0s - loss: 0.2618 - accuracy: 0.8869\n",
      "Epoch 51/100\n",
      "164/164 - 0s - loss: 0.2540 - accuracy: 0.8898\n",
      "Epoch 52/100\n",
      "164/164 - 0s - loss: 0.2647 - accuracy: 0.8821\n",
      "Epoch 53/100\n",
      "164/164 - 0s - loss: 0.2575 - accuracy: 0.8888\n",
      "Epoch 54/100\n",
      "164/164 - 0s - loss: 0.2576 - accuracy: 0.8865\n",
      "Epoch 55/100\n",
      "164/164 - 0s - loss: 0.2485 - accuracy: 0.8943\n",
      "Epoch 56/100\n",
      "164/164 - 0s - loss: 0.2551 - accuracy: 0.8905\n",
      "Epoch 57/100\n",
      "164/164 - 0s - loss: 0.2522 - accuracy: 0.8896\n",
      "Epoch 58/100\n",
      "164/164 - 0s - loss: 0.2486 - accuracy: 0.8938\n",
      "Epoch 59/100\n",
      "164/164 - 0s - loss: 0.2490 - accuracy: 0.8932\n",
      "Epoch 60/100\n",
      "164/164 - 0s - loss: 0.2454 - accuracy: 0.8917\n",
      "Epoch 61/100\n",
      "164/164 - 0s - loss: 0.2429 - accuracy: 0.8945\n",
      "Epoch 62/100\n",
      "164/164 - 0s - loss: 0.2394 - accuracy: 0.8943\n",
      "Epoch 63/100\n",
      "164/164 - 0s - loss: 0.2415 - accuracy: 0.8993\n",
      "Epoch 64/100\n",
      "164/164 - 0s - loss: 0.2452 - accuracy: 0.8926\n",
      "Epoch 65/100\n",
      "164/164 - 0s - loss: 0.2425 - accuracy: 0.8941\n",
      "Epoch 66/100\n",
      "164/164 - 0s - loss: 0.2416 - accuracy: 0.8938\n",
      "Epoch 67/100\n",
      "164/164 - 0s - loss: 0.2393 - accuracy: 0.8955\n",
      "Epoch 68/100\n",
      "164/164 - 0s - loss: 0.2441 - accuracy: 0.8938\n",
      "Epoch 69/100\n",
      "164/164 - 0s - loss: 0.2386 - accuracy: 0.8951\n",
      "Epoch 70/100\n",
      "164/164 - 0s - loss: 0.2412 - accuracy: 0.8928\n",
      "Epoch 71/100\n",
      "164/164 - 0s - loss: 0.2376 - accuracy: 0.8947\n",
      "Epoch 72/100\n",
      "164/164 - 0s - loss: 0.2391 - accuracy: 0.8953\n",
      "Epoch 73/100\n",
      "164/164 - 0s - loss: 0.2387 - accuracy: 0.8955\n",
      "Epoch 74/100\n",
      "164/164 - 0s - loss: 0.2384 - accuracy: 0.8978\n",
      "Epoch 75/100\n",
      "164/164 - 0s - loss: 0.2377 - accuracy: 0.8945\n",
      "Epoch 76/100\n",
      "164/164 - 0s - loss: 0.2338 - accuracy: 0.8997\n",
      "Epoch 77/100\n",
      "164/164 - 0s - loss: 0.2335 - accuracy: 0.8974\n",
      "Epoch 78/100\n",
      "164/164 - 0s - loss: 0.2408 - accuracy: 0.8915\n",
      "Epoch 79/100\n",
      "164/164 - 0s - loss: 0.2362 - accuracy: 0.8972\n",
      "Epoch 80/100\n",
      "164/164 - 0s - loss: 0.2341 - accuracy: 0.8947\n",
      "Epoch 81/100\n",
      "164/164 - 0s - loss: 0.2353 - accuracy: 0.8959\n",
      "Epoch 82/100\n",
      "164/164 - 0s - loss: 0.2343 - accuracy: 0.8964\n",
      "Epoch 83/100\n",
      "164/164 - 0s - loss: 0.2293 - accuracy: 0.9002\n",
      "Epoch 84/100\n",
      "164/164 - 0s - loss: 0.2342 - accuracy: 0.8949\n",
      "Epoch 85/100\n",
      "164/164 - 0s - loss: 0.2259 - accuracy: 0.9010\n",
      "Epoch 86/100\n",
      "164/164 - 0s - loss: 0.2302 - accuracy: 0.9008\n",
      "Epoch 87/100\n",
      "164/164 - 0s - loss: 0.2245 - accuracy: 0.9023\n",
      "Epoch 88/100\n",
      "164/164 - 0s - loss: 0.2277 - accuracy: 0.8974\n",
      "Epoch 89/100\n",
      "164/164 - 0s - loss: 0.2347 - accuracy: 0.8968\n",
      "Epoch 90/100\n",
      "164/164 - 0s - loss: 0.2327 - accuracy: 0.8972\n",
      "Epoch 91/100\n",
      "164/164 - 0s - loss: 0.2297 - accuracy: 0.8985\n",
      "Epoch 92/100\n",
      "164/164 - 0s - loss: 0.2350 - accuracy: 0.8951\n",
      "Epoch 93/100\n",
      "164/164 - 0s - loss: 0.2286 - accuracy: 0.9002\n",
      "Epoch 94/100\n",
      "164/164 - 0s - loss: 0.2293 - accuracy: 0.8962\n",
      "Epoch 95/100\n",
      "164/164 - 0s - loss: 0.2256 - accuracy: 0.9006\n",
      "Epoch 96/100\n",
      "164/164 - 0s - loss: 0.2249 - accuracy: 0.9020\n",
      "Epoch 97/100\n",
      "164/164 - 0s - loss: 0.2262 - accuracy: 0.8976\n",
      "Epoch 98/100\n",
      "164/164 - 0s - loss: 0.2217 - accuracy: 0.9031\n",
      "Epoch 99/100\n",
      "164/164 - 0s - loss: 0.2262 - accuracy: 0.8995\n",
      "Epoch 100/100\n",
      "164/164 - 0s - loss: 0.2216 - accuracy: 0.8985\n"
     ]
    },
    {
     "data": {
      "text/plain": [
       "<tensorflow.python.keras.callbacks.History at 0x27d018bcc88>"
      ]
     },
     "execution_count": 12,
     "metadata": {},
     "output_type": "execute_result"
    }
   ],
   "source": [
    "model.fit(\n",
    "    X_train_scaled,\n",
    "    y_train_categorical,\n",
    "    epochs=100,\n",
    "    shuffle=True,\n",
    "    verbose=2\n",
    ")"
   ]
  },
  {
   "cell_type": "code",
   "execution_count": 13,
   "metadata": {},
   "outputs": [
    {
     "name": "stdout",
     "output_type": "stream",
     "text": [
      "55/55 - 0s - loss: 0.2671 - accuracy: 0.8930\n",
      "Normal Neural Network - Loss: 0.2670820951461792, Accuracy: 0.8930205702781677\n"
     ]
    }
   ],
   "source": [
    "model_loss, model_accuracy = model.evaluate(\n",
    "    X_test_scaled, y_test_categorical, verbose=2)\n",
    "print(\n",
    "    f\"Normal Neural Network - Loss: {model_loss}, Accuracy: {model_accuracy}\")"
   ]
  },
  {
   "cell_type": "code",
   "execution_count": 14,
   "metadata": {},
   "outputs": [
    {
     "name": "stderr",
     "output_type": "stream",
     "text": [
      "C:\\Users\\jcg\\anaconda3\\envs\\PythonAdv\\lib\\site-packages\\tensorflow\\python\\keras\\engine\\sequential.py:450: UserWarning: `model.predict_classes()` is deprecated and will be removed after 2021-01-01. Please use instead:* `np.argmax(model.predict(x), axis=-1)`,   if your model does multi-class classification   (e.g. if it uses a `softmax` last-layer activation).* `(model.predict(x) > 0.5).astype(\"int32\")`,   if your model does binary classification   (e.g. if it uses a `sigmoid` last-layer activation).\n",
      "  warnings.warn('`model.predict_classes()` is deprecated and '\n"
     ]
    }
   ],
   "source": [
    "import warnings\n",
    "warnings.simplefilter('ignore', FutureWarning)\n",
    "\n",
    "encoded_predictions = model.predict_classes(X_test_scaled[:20])\n",
    "prediction_labels = label_encoder.inverse_transform(encoded_predictions)"
   ]
  },
  {
   "cell_type": "code",
   "execution_count": 15,
   "metadata": {},
   "outputs": [
    {
     "name": "stdout",
     "output_type": "stream",
     "text": [
      "Predicted classes: ['CONFIRMED' 'FALSE POSITIVE' 'FALSE POSITIVE' 'CONFIRMED'\n",
      " 'FALSE POSITIVE' 'FALSE POSITIVE' 'FALSE POSITIVE' 'CANDIDATE'\n",
      " 'CANDIDATE' 'FALSE POSITIVE' 'CONFIRMED' 'FALSE POSITIVE'\n",
      " 'FALSE POSITIVE' 'CANDIDATE' 'CANDIDATE' 'CONFIRMED' 'FALSE POSITIVE'\n",
      " 'FALSE POSITIVE' 'CANDIDATE' 'CANDIDATE']\n",
      "Actual Labels: ['CONFIRMED', 'FALSE POSITIVE', 'FALSE POSITIVE', 'CONFIRMED', 'FALSE POSITIVE', 'FALSE POSITIVE', 'FALSE POSITIVE', 'CONFIRMED', 'CANDIDATE', 'FALSE POSITIVE', 'CONFIRMED', 'FALSE POSITIVE', 'FALSE POSITIVE', 'CANDIDATE', 'CANDIDATE', 'CONFIRMED', 'FALSE POSITIVE', 'FALSE POSITIVE', 'CONFIRMED', 'CANDIDATE']\n"
     ]
    }
   ],
   "source": [
    "print(f\"Predicted classes: {prediction_labels}\")\n",
    "print(f\"Actual Labels: {list(y_test[:20])}\")"
   ]
  },
  {
   "cell_type": "code",
   "execution_count": null,
   "metadata": {},
   "outputs": [],
   "source": []
  },
  {
   "cell_type": "code",
   "execution_count": null,
   "metadata": {},
   "outputs": [],
   "source": [
    "print(f\"Training Data Score: {model2.score(X_train_scaled, y_train)}\")\n",
    "print(f\"Testing Data Score: {model2.score(X_test_scaled, y_test)}\")"
   ]
  },
  {
   "cell_type": "markdown",
   "metadata": {},
   "source": [
    "# Hyperparameter Tuning\n",
    "\n",
    "Use `GridSearchCV` to tune the model's parameters"
   ]
  },
  {
   "cell_type": "code",
   "execution_count": null,
   "metadata": {},
   "outputs": [],
   "source": [
    "# Create the GridSearchCV model"
   ]
  },
  {
   "cell_type": "code",
   "execution_count": null,
   "metadata": {},
   "outputs": [],
   "source": [
    "# Train the model with GridSearch"
   ]
  },
  {
   "cell_type": "code",
   "execution_count": null,
   "metadata": {},
   "outputs": [],
   "source": [
    "print(grid2.best_params_)\n",
    "print(grid2.best_score_)"
   ]
  },
  {
   "cell_type": "markdown",
   "metadata": {},
   "source": [
    "# Save the Model"
   ]
  },
  {
   "cell_type": "code",
   "execution_count": null,
   "metadata": {},
   "outputs": [],
   "source": [
    "# save your model by updating \"your_name\" with your name\n",
    "# and \"your_model\" with your model variable\n",
    "# be sure to turn this in to BCS\n",
    "# if joblib fails to import, try running the command to install in terminal/git-bash\n",
    "import joblib\n",
    "filename = 'your_name.sav'\n",
    "joblib.dump(your_model, filename)"
   ]
  }
 ],
 "metadata": {
  "kernel_info": {
   "name": "dev"
  },
  "kernelspec": {
   "display_name": "Python [conda env:PythonAdv] *",
   "language": "python",
   "name": "conda-env-PythonAdv-py"
  },
  "language_info": {
   "codemirror_mode": {
    "name": "ipython",
    "version": 3
   },
   "file_extension": ".py",
   "mimetype": "text/x-python",
   "name": "python",
   "nbconvert_exporter": "python",
   "pygments_lexer": "ipython3",
   "version": "3.6.13"
  },
  "nteract": {
   "version": "0.12.3"
  }
 },
 "nbformat": 4,
 "nbformat_minor": 2
}
